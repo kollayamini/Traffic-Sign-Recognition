{
 "cells": [
  {
   "cell_type": "code",
   "execution_count": 1,
   "id": "72a66e2d",
   "metadata": {},
   "outputs": [
    {
     "name": "stderr",
     "output_type": "stream",
     "text": [
      "2023-04-25 01:42:58.093241: I tensorflow/core/platform/cpu_feature_guard.cc:193] This TensorFlow binary is optimized with oneAPI Deep Neural Network Library (oneDNN) to use the following CPU instructions in performance-critical operations:  SSE4.1 SSE4.2\n",
      "To enable them in other operations, rebuild TensorFlow with the appropriate compiler flags.\n"
     ]
    }
   ],
   "source": [
    "#import required libraries \n",
    "import numpy as np \n",
    "import pandas as pd \n",
    "import matplotlib.pyplot as plt\n",
    "import tensorflow as tf\n",
    "import cv2\n",
    "from PIL import Image\n",
    "import os\n",
    "from tensorflow.keras.models import Sequential\n",
    "from tensorflow.keras.layers import Conv2D, MaxPool2D, Dense, Flatten, Dropout\n",
    "from tensorflow.keras.utils import to_categorical\n",
    "from sklearn.metrics import accuracy_score\n",
    "from sklearn.metrics import classification_report"
   ]
  },
  {
   "cell_type": "code",
   "execution_count": 3,
   "id": "36ec0281",
   "metadata": {},
   "outputs": [],
   "source": [
    "#Taking the input images and convert to numpy array\n",
    "data=[]\n",
    "class_labels=[]\n",
    "\n",
    "img_height = 30\n",
    "img_width = 30\n",
    "img_channels = 3\n",
    "num_classes = 43\n",
    "n_inputs = img_height * img_width * img_channels"
   ]
  },
  {
   "cell_type": "code",
   "execution_count": 4,
   "id": "8d64759d",
   "metadata": {},
   "outputs": [
    {
     "name": "stdout",
     "output_type": "stream",
     "text": [
      "/Users/gopichandrseethi/Desktop/traffic-sign-recognition-main/Train/0/\n",
      "/Users/gopichandrseethi/Desktop/traffic-sign-recognition-main/Train/1/\n",
      "/Users/gopichandrseethi/Desktop/traffic-sign-recognition-main/Train/2/\n",
      "/Users/gopichandrseethi/Desktop/traffic-sign-recognition-main/Train/3/\n",
      "/Users/gopichandrseethi/Desktop/traffic-sign-recognition-main/Train/4/\n",
      "/Users/gopichandrseethi/Desktop/traffic-sign-recognition-main/Train/5/\n",
      "/Users/gopichandrseethi/Desktop/traffic-sign-recognition-main/Train/6/\n",
      "/Users/gopichandrseethi/Desktop/traffic-sign-recognition-main/Train/7/\n",
      "/Users/gopichandrseethi/Desktop/traffic-sign-recognition-main/Train/8/\n",
      "/Users/gopichandrseethi/Desktop/traffic-sign-recognition-main/Train/9/\n",
      "/Users/gopichandrseethi/Desktop/traffic-sign-recognition-main/Train/10/\n",
      "/Users/gopichandrseethi/Desktop/traffic-sign-recognition-main/Train/11/\n",
      "/Users/gopichandrseethi/Desktop/traffic-sign-recognition-main/Train/12/\n",
      "/Users/gopichandrseethi/Desktop/traffic-sign-recognition-main/Train/13/\n",
      "/Users/gopichandrseethi/Desktop/traffic-sign-recognition-main/Train/14/\n",
      "/Users/gopichandrseethi/Desktop/traffic-sign-recognition-main/Train/15/\n",
      "/Users/gopichandrseethi/Desktop/traffic-sign-recognition-main/Train/16/\n",
      "/Users/gopichandrseethi/Desktop/traffic-sign-recognition-main/Train/17/\n",
      "/Users/gopichandrseethi/Desktop/traffic-sign-recognition-main/Train/18/\n",
      "/Users/gopichandrseethi/Desktop/traffic-sign-recognition-main/Train/19/\n",
      "/Users/gopichandrseethi/Desktop/traffic-sign-recognition-main/Train/20/\n",
      "/Users/gopichandrseethi/Desktop/traffic-sign-recognition-main/Train/21/\n",
      "/Users/gopichandrseethi/Desktop/traffic-sign-recognition-main/Train/22/\n",
      "/Users/gopichandrseethi/Desktop/traffic-sign-recognition-main/Train/23/\n",
      "/Users/gopichandrseethi/Desktop/traffic-sign-recognition-main/Train/24/\n",
      "/Users/gopichandrseethi/Desktop/traffic-sign-recognition-main/Train/25/\n",
      "/Users/gopichandrseethi/Desktop/traffic-sign-recognition-main/Train/26/\n",
      "/Users/gopichandrseethi/Desktop/traffic-sign-recognition-main/Train/27/\n",
      "/Users/gopichandrseethi/Desktop/traffic-sign-recognition-main/Train/28/\n",
      "/Users/gopichandrseethi/Desktop/traffic-sign-recognition-main/Train/29/\n",
      "/Users/gopichandrseethi/Desktop/traffic-sign-recognition-main/Train/30/\n",
      "/Users/gopichandrseethi/Desktop/traffic-sign-recognition-main/Train/31/\n",
      "/Users/gopichandrseethi/Desktop/traffic-sign-recognition-main/Train/32/\n",
      "/Users/gopichandrseethi/Desktop/traffic-sign-recognition-main/Train/33/\n",
      "/Users/gopichandrseethi/Desktop/traffic-sign-recognition-main/Train/34/\n",
      "/Users/gopichandrseethi/Desktop/traffic-sign-recognition-main/Train/35/\n",
      "/Users/gopichandrseethi/Desktop/traffic-sign-recognition-main/Train/36/\n",
      "/Users/gopichandrseethi/Desktop/traffic-sign-recognition-main/Train/37/\n",
      "/Users/gopichandrseethi/Desktop/traffic-sign-recognition-main/Train/38/\n",
      "/Users/gopichandrseethi/Desktop/traffic-sign-recognition-main/Train/39/\n",
      "/Users/gopichandrseethi/Desktop/traffic-sign-recognition-main/Train/40/\n",
      "/Users/gopichandrseethi/Desktop/traffic-sign-recognition-main/Train/41/\n",
      "/Users/gopichandrseethi/Desktop/traffic-sign-recognition-main/Train/42/\n"
     ]
    }
   ],
   "source": [
    "#Reading the trainig data\n",
    "for n_class in range(num_classes) :\n",
    "    path = \"/Users/gopichandrseethi/Desktop/traffic-sign-recognition-main/Train/{0}/\".format(n_class)\n",
    "    print(path)\n",
    "    Class=os.listdir(path)\n",
    "    for cls in Class:\n",
    "        try:\n",
    "            img=cv2.imread(path+cls)\n",
    "            img_from_array = Image.fromarray(img, 'RGB')\n",
    "            img_size = img_from_array.resize((img_height, img_width))\n",
    "            data.append(np.array(img_size))\n",
    "            class_labels.append(n_class)\n",
    "        except AttributeError:\n",
    "            print(\" \")\n",
    "            \n",
    "data=np.array(data)\n",
    "class_labels=np.array(class_labels)"
   ]
  },
  {
   "cell_type": "code",
   "execution_count": 5,
   "id": "b243bdfa",
   "metadata": {},
   "outputs": [],
   "source": [
    "#shuffle the images for better accuracy\n",
    "s=np.arange(data.shape[0])\n",
    "np.random.seed(43)\n",
    "np.random.shuffle(s)\n",
    "data=data[s]\n",
    "class_labels=class_labels[s]"
   ]
  },
  {
   "cell_type": "code",
   "execution_count": 6,
   "id": "0f942a43",
   "metadata": {},
   "outputs": [],
   "source": [
    "#split the data to training and validation sets\n",
    "(X_train,X_val)=data[(int)(0.2*len(class_labels)):],data[:(int)(0.2*len(class_labels))]\n",
    "X_train = X_train.astype('float32')/255 \n",
    "X_val = X_val.astype('float32')/255\n",
    "(y_train,y_val)=class_labels[(int)(0.2*len(class_labels)):],class_labels[:(int)(0.2*len(class_labels))]"
   ]
  },
  {
   "cell_type": "code",
   "execution_count": 7,
   "id": "27c9bc84",
   "metadata": {},
   "outputs": [],
   "source": [
    "#convert the labelled data to numerical data using one hot encoding\n",
    "y_train = to_categorical(y_train, 43)\n",
    "y_val = to_categorical(y_val, 43)\n"
   ]
  },
  {
   "cell_type": "code",
   "execution_count": 8,
   "id": "8a9d52f9",
   "metadata": {},
   "outputs": [
    {
     "name": "stderr",
     "output_type": "stream",
     "text": [
      "2023-04-25 01:45:15.857249: I tensorflow/core/platform/cpu_feature_guard.cc:193] This TensorFlow binary is optimized with oneAPI Deep Neural Network Library (oneDNN) to use the following CPU instructions in performance-critical operations:  SSE4.1 SSE4.2\n",
      "To enable them in other operations, rebuild TensorFlow with the appropriate compiler flags.\n"
     ]
    }
   ],
   "source": [
    "#create a sequential model and add conv2d,maxpooling layers\n",
    "model = Sequential()\n",
    "model.add(Conv2D(filters=32, kernel_size=(5,5), activation='tanh', input_shape=X_train.shape[1:]))\n",
    "model.add(Conv2D(filters=32, kernel_size=(3, 3), activation='tanh'))\n",
    "model.add(MaxPool2D(pool_size=(2, 2)))\n",
    "model.add(Dropout(rate=0.25))\n",
    "model.add(Conv2D(filters=32, kernel_size=(3, 3), activation='tanh'))\n",
    "model.add(MaxPool2D(pool_size=(2, 2)))\n",
    "model.add(Dropout(rate=0.25))\n",
    "model.add(Flatten())\n",
    "model.add(Dense(256, activation='tanh'))\n",
    "model.add(Dropout(rate=0.5))\n",
    "model.add(Dense(43, activation='softmax'))"
   ]
  },
  {
   "cell_type": "code",
   "execution_count": 9,
   "id": "8969d3fb",
   "metadata": {},
   "outputs": [],
   "source": [
    "#create the learning phase for model using compile method\n",
    "model.compile(\n",
    "    loss='categorical_crossentropy', \n",
    "    optimizer='adam', \n",
    "    metrics=['accuracy']\n",
    ")"
   ]
  },
  {
   "cell_type": "code",
   "execution_count": 10,
   "id": "d7203e8a",
   "metadata": {},
   "outputs": [
    {
     "name": "stdout",
     "output_type": "stream",
     "text": [
      "Epoch 1/20\n",
      "981/981 [==============================] - 17s 17ms/step - loss: 0.7887 - accuracy: 0.7797 - val_loss: 0.1140 - val_accuracy: 0.9700\n",
      "Epoch 2/20\n",
      "981/981 [==============================] - 17s 17ms/step - loss: 0.1703 - accuracy: 0.9515 - val_loss: 0.0613 - val_accuracy: 0.9833\n",
      "Epoch 3/20\n",
      "981/981 [==============================] - 17s 17ms/step - loss: 0.1074 - accuracy: 0.9675 - val_loss: 0.0411 - val_accuracy: 0.9885\n",
      "Epoch 4/20\n",
      "981/981 [==============================] - 17s 17ms/step - loss: 0.0899 - accuracy: 0.9726 - val_loss: 0.0340 - val_accuracy: 0.9909\n",
      "Epoch 5/20\n",
      "981/981 [==============================] - 17s 17ms/step - loss: 0.0785 - accuracy: 0.9762 - val_loss: 0.0274 - val_accuracy: 0.9923\n",
      "Epoch 6/20\n",
      "981/981 [==============================] - 17s 18ms/step - loss: 0.0678 - accuracy: 0.9790 - val_loss: 0.0273 - val_accuracy: 0.9926\n",
      "Epoch 7/20\n",
      "981/981 [==============================] - 18s 18ms/step - loss: 0.0669 - accuracy: 0.9799 - val_loss: 0.0293 - val_accuracy: 0.9922\n",
      "Epoch 8/20\n",
      "981/981 [==============================] - 18s 18ms/step - loss: 0.0608 - accuracy: 0.9819 - val_loss: 0.0245 - val_accuracy: 0.9934\n",
      "Epoch 9/20\n",
      "981/981 [==============================] - 18s 18ms/step - loss: 0.0627 - accuracy: 0.9811 - val_loss: 0.0238 - val_accuracy: 0.9939\n",
      "Epoch 10/20\n",
      "981/981 [==============================] - 18s 18ms/step - loss: 0.0559 - accuracy: 0.9822 - val_loss: 0.0273 - val_accuracy: 0.9932\n",
      "Epoch 11/20\n",
      "981/981 [==============================] - 18s 18ms/step - loss: 0.0565 - accuracy: 0.9817 - val_loss: 0.0220 - val_accuracy: 0.9941\n",
      "Epoch 12/20\n",
      "981/981 [==============================] - 18s 19ms/step - loss: 0.0551 - accuracy: 0.9822 - val_loss: 0.0262 - val_accuracy: 0.9930\n",
      "Epoch 13/20\n",
      "981/981 [==============================] - 18s 19ms/step - loss: 0.0529 - accuracy: 0.9829 - val_loss: 0.0202 - val_accuracy: 0.9957\n",
      "Epoch 14/20\n",
      "981/981 [==============================] - 18s 19ms/step - loss: 0.0496 - accuracy: 0.9846 - val_loss: 0.0252 - val_accuracy: 0.9935\n",
      "Epoch 15/20\n",
      "981/981 [==============================] - 18s 19ms/step - loss: 0.0523 - accuracy: 0.9826 - val_loss: 0.0231 - val_accuracy: 0.9948\n",
      "Epoch 16/20\n",
      "981/981 [==============================] - 18s 19ms/step - loss: 0.0525 - accuracy: 0.9838 - val_loss: 0.0208 - val_accuracy: 0.9943\n",
      "Epoch 17/20\n",
      "981/981 [==============================] - 19s 19ms/step - loss: 0.0515 - accuracy: 0.9840 - val_loss: 0.0238 - val_accuracy: 0.9934\n",
      "Epoch 18/20\n",
      "981/981 [==============================] - 18s 19ms/step - loss: 0.0479 - accuracy: 0.9846 - val_loss: 0.0218 - val_accuracy: 0.9953\n",
      "Epoch 19/20\n",
      "981/981 [==============================] - 18s 19ms/step - loss: 0.0494 - accuracy: 0.9838 - val_loss: 0.0319 - val_accuracy: 0.9913\n",
      "Epoch 20/20\n",
      "981/981 [==============================] - 19s 19ms/step - loss: 0.0518 - accuracy: 0.9838 - val_loss: 0.0215 - val_accuracy: 0.9944\n"
     ]
    }
   ],
   "source": [
    "#Train the model with fit method and earlystopping as the callback function\n",
    "epochs = 20\n",
    "history = model.fit(X_train, y_train, batch_size=32, epochs=epochs,\n",
    "validation_data=(X_val, y_val))"
   ]
  },
  {
   "cell_type": "code",
   "execution_count": 11,
   "id": "0ec4d050",
   "metadata": {},
   "outputs": [
    {
     "data": {
      "image/png": "[encoded data removed]",
      "text/plain": [
       "<Figure size 640x480 with 1 Axes>"
      ]
     },
     "metadata": {},
     "output_type": "display_data"
    }
   ],
   "source": [
    "#plot the graph for training accuracy and valdidation accuracy\n",
    "plt.figure(0)\n",
    "plt.plot(history.history['accuracy'], label='training accuracy')\n",
    "plt.plot(history.history['val_accuracy'], label='val accuracy')\n",
    "plt.title('Accuracy')\n",
    "plt.xlabel('epochs')\n",
    "plt.ylabel('accuracy')\n",
    "plt.legend()\n",
    "plt.show()"
   ]
  },
  {
   "cell_type": "code",
   "execution_count": 12,
   "id": "76a7343e",
   "metadata": {},
   "outputs": [
    {
     "data": {
      "image/png": "[encoded data removed]",
      "text/plain": [
       "<Figure size 640x480 with 1 Axes>"
      ]
     },
     "metadata": {},
     "output_type": "display_data"
    }
   ],
   "source": [
    "#plot the graph for training loss and valdidation loss\n",
    "plt.figure(1)\n",
    "plt.plot(history.history['loss'], label='training loss')\n",
    "plt.plot(history.history['val_loss'], label='val loss')\n",
    "plt.title('Loss')\n",
    "plt.xlabel('epochs')\n",
    "plt.ylabel('loss')\n",
    "plt.legend()\n",
    "plt.show()"
   ]
  },
  {
   "cell_type": "code",
   "execution_count": 16,
   "id": "593734e9",
   "metadata": {},
   "outputs": [
    {
     "name": "stdout",
     "output_type": "stream",
     "text": [
      "395/395 [==============================] - 2s 6ms/step\n",
      "Accuracy Score:  0.9718923198733175\n",
      "              precision    recall  f1-score   support\n",
      "\n",
      "           0       0.97      0.93      0.95        60\n",
      "           1       0.98      0.98      0.98       720\n",
      "           2       0.94      1.00      0.97       750\n",
      "           3       0.93      0.94      0.94       450\n",
      "           4       0.98      0.98      0.98       660\n",
      "           5       0.92      0.96      0.94       630\n",
      "           6       0.99      0.79      0.88       150\n",
      "           7       0.98      0.97      0.97       450\n",
      "           8       1.00      0.95      0.97       450\n",
      "           9       0.97      0.99      0.98       480\n",
      "          10       0.99      1.00      0.99       660\n",
      "          11       0.95      0.98      0.96       420\n",
      "          12       1.00      1.00      1.00       690\n",
      "          13       1.00      1.00      1.00       720\n",
      "          14       0.99      1.00      1.00       270\n",
      "          15       0.99      0.96      0.98       210\n",
      "          16       1.00      0.99      0.99       150\n",
      "          17       1.00      1.00      1.00       360\n",
      "          18       0.99      0.92      0.95       390\n",
      "          19       0.86      1.00      0.92        60\n",
      "          20       0.79      0.99      0.88        90\n",
      "          21       0.88      0.84      0.86        90\n",
      "          22       0.95      0.97      0.96       120\n",
      "          23       0.97      0.99      0.98       150\n",
      "          24       0.93      0.99      0.96        90\n",
      "          25       0.96      0.96      0.96       480\n",
      "          26       0.98      0.90      0.94       180\n",
      "          27       0.90      0.95      0.93        60\n",
      "          28       0.99      0.99      0.99       150\n",
      "          29       1.00      0.96      0.98        90\n",
      "          30       0.99      0.87      0.93       150\n",
      "          31       0.94      0.99      0.97       270\n",
      "          32       0.97      0.98      0.98        60\n",
      "          33       0.99      0.99      0.99       210\n",
      "          34       0.98      0.99      0.98       120\n",
      "          35       1.00      0.99      1.00       390\n",
      "          36       0.98      0.97      0.98       120\n",
      "          37       0.97      0.98      0.98        60\n",
      "          38       0.99      0.99      0.99       690\n",
      "          39       0.95      0.99      0.97        90\n",
      "          40       0.99      0.87      0.92        90\n",
      "          41       1.00      0.75      0.86        60\n",
      "          42       0.98      0.99      0.98        90\n",
      "\n",
      "    accuracy                           0.97     12630\n",
      "   macro avg       0.96      0.96      0.96     12630\n",
      "weighted avg       0.97      0.97      0.97     12630\n",
      "\n"
     ]
    }
   ],
   "source": [
    "#Test data prediction\n",
    "y_test=pd.read_csv(\"/Users/gopichandrseethi/Desktop/traffic-sign-recognition-main/Test.csv\")\n",
    "class_labels=y_test['Path'].to_numpy()\n",
    "y_test=y_test['ClassId'].values\n",
    "\n",
    "data=[]\n",
    "\n",
    "for f in class_labels:\n",
    "    img=cv2.imread('/Users/gopichandrseethi/Desktop/traffic-sign-recognition-main/Test/'+f.replace('Test/', ''))\n",
    "    img_from_array = Image.fromarray(img, 'RGB')\n",
    "    img_size = img_from_array.resize((img_height, img_width))\n",
    "    data.append(np.array(img_size))\n",
    "\n",
    "X_test=np.array(data)\n",
    "X_test = X_test.astype('float32')/255 \n",
    "pred_prob = model.predict(X_test) \n",
    "pred_arr = np.argmax(pred_prob, axis=1)\n",
    "print(\"Accuracy Score: \",accuracy_score(y_test, pred_arr))\n",
    "print(classification_report(y_test, pred_arr))\n"
   ]
  },
  {
   "cell_type": "code",
   "execution_count": 17,
   "id": "2a3bc801",
   "metadata": {},
   "outputs": [],
   "source": [
    "#Save the model in .h5 fromat\n",
    "model.save('modelCNN.h5')"
   ]
  },
  {
   "cell_type": "code",
   "execution_count": 1,
   "id": "5d627b24",
   "metadata": {},
   "outputs": [
    {
     "ename": "NameError",
     "evalue": "name 'model' is not defined",
     "output_type": "error",
     "traceback": [
      "\u001b[0;31m---------------------------------------------------------------------------\u001b[0m",
      "\u001b[0;31mNameError\u001b[0m                                 Traceback (most recent call last)",
      "Cell \u001b[0;32mIn[1], line 1\u001b[0m\n\u001b[0;32m----> 1\u001b[0m \u001b[43mmodel\u001b[49m\u001b[38;5;241m.\u001b[39msummary()\n",
      "\u001b[0;31mNameError\u001b[0m: name 'model' is not defined"
     ]
    }
   ],
   "source": [
    "model.summary()"
   ]
  },
  {
   "cell_type": "code",
   "execution_count": null,
   "id": "533d3946",
   "metadata": {},
   "outputs": [],
   "source": []
  }
 ],
 "metadata": {
  "kernelspec": {
   "display_name": "Python 3 (ipykernel)",
   "language": "python",
   "name": "python3"
  },
  "language_info": {
   "codemirror_mode": {
    "name": "ipython",
    "version": 3
   },
   "file_extension": ".py",
   "mimetype": "text/x-python",
   "name": "python",
   "nbconvert_exporter": "python",
   "pygments_lexer": "ipython3",
   "version": "3.10.11"
  }
 },
 "nbformat": 4,
 "nbformat_minor": 5
}
